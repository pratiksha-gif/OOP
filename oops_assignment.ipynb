{
  "nbformat": 4,
  "nbformat_minor": 0,
  "metadata": {
    "colab": {
      "provenance": []
    },
    "kernelspec": {
      "name": "python3",
      "display_name": "Python 3"
    },
    "language_info": {
      "name": "python"
    }
  },
  "cells": [
    {
      "cell_type": "markdown",
      "source": [
        "**Q1)**Object orientation programming is a programming paradigm that organises software design around objects rather than functions and logic.\n"
      ],
      "metadata": {
        "id": "-F_VZtDMWxpU"
      }
    },
    {
      "cell_type": "markdown",
      "source": [
        "**Q2)**In object oriented programming a class is ablueprint or template for creating objects."
      ],
      "metadata": {
        "id": "OxQjQ5cwYfCu"
      }
    },
    {
      "cell_type": "markdown",
      "source": [
        "**Q3)**in object oriented programming an object is a fundamental building block that represents a instance of a class."
      ],
      "metadata": {
        "id": "RtMClmjaYzHi"
      }
    },
    {
      "cell_type": "markdown",
      "source": [
        "**Q4)**abstraction focuses on hiding implementation details whereas encapsulation focuses on hiding internal data.\n",
        "Abstraction's purpose is to simplify users interaction whereas encapsulation's purpose on projects object integrity.\n",
        "Abstraction implementation is achieved through abstract classes or interfaces whereas encapsulation implementation achieved through access modifiers and bundling.\n"
      ],
      "metadata": {
        "id": "5uw8blvQZRrQ"
      }
    },
    {
      "cell_type": "markdown",
      "source": [
        "**Q5)**Dunder methods, short for double underscore methods, are special methods in python that are  defined with double underscore at the begining and end of their names."
      ],
      "metadata": {
        "id": "ola4moQBbVdf"
      }
    },
    {
      "cell_type": "markdown",
      "source": [
        "**Q6)**inheritance is a fundamental concept in OOP that allows one class (called the child or derived class) to acquire the properties and behaviour (methods) of another class (called the parent or base class). It enables code reuse,enhance maintainablity,and supports the hierarchial classification of objects."
      ],
      "metadata": {
        "id": "TrhL47UVPwY7"
      }
    },
    {
      "cell_type": "markdown",
      "source": [
        "**Q7)**polymorphism is OOP refers to the ability of a single interface or method to represent different forms. It enables objects of different classes to be treated as object of common superclass, and it suports dynamic method dispatch at runtime."
      ],
      "metadata": {
        "id": "saGky2-PRN2D"
      }
    },
    {
      "cell_type": "markdown",
      "source": [
        "**Q8)**encapsulation in python is achieved through the use of classes and access and modifiers."
      ],
      "metadata": {
        "id": "unorpzzDSd6o"
      }
    },
    {
      "cell_type": "markdown",
      "source": [
        "**Q9)**in python a constructor is a special method used to intialise an object when it is created"
      ],
      "metadata": {
        "id": "YSBCEPs2TPDN"
      }
    },
    {
      "cell_type": "markdown",
      "source": [
        "**Q10)**in python, class and static methods are special types of methods used in oop.They differ in how they are called and the kind of functionality they provide."
      ],
      "metadata": {
        "id": "5hUj7nX5T1-l"
      }
    },
    {
      "cell_type": "markdown",
      "source": [
        "**Q11)**method overloading in python refers to the ability to define multiple methods with the same name but different arguments in the same class."
      ],
      "metadata": {
        "id": "DjJt9fqEVXsQ"
      }
    },
    {
      "cell_type": "markdown",
      "source": [
        "**Q12)**method overriding in OOP is a feature that allows a subclass to provide a specific implementation of a method that is already defined in  it's parent class."
      ],
      "metadata": {
        "id": "d3EgCk-7XoVi"
      }
    },
    {
      "cell_type": "markdown",
      "source": [
        "**Q13)**in pyhton, a property decorator is used to define a method as a property, allowing you to access it like an attribute but still a method under the hood."
      ],
      "metadata": {
        "id": "hYiLXjf3Y6Jo"
      }
    },
    {
      "cell_type": "markdown",
      "source": [
        "**Q14)**polymorphism is a fundamental concept in OOP that allows onjects of different types to be treated as objects of a common supertype."
      ],
      "metadata": {
        "id": "nLWlG6vlaGyw"
      }
    },
    {
      "cell_type": "markdown",
      "source": [
        "**Q15)**an abstract class in python is a class that cannot be instantiated directly and is designed to be a blueprint for other classes."
      ],
      "metadata": {
        "id": "JaHmTRl_Z8fp"
      }
    },
    {
      "cell_type": "markdown",
      "source": [
        "**Q16)**OPP offers several advantages,making it a popular paradigm in software development. The adavantages are:\n",
        "**A)**modularity and reusability\n",
        "**B)**code maintainability\n",
        "**C)**scalabilty\n",
        "**D)**inheritace\n",
        "**E)**abstraction\n",
        "**F)**polymorphism\n",
        "**G)**data security\n",
        "**H)**ease of collaboration\n",
        "**I)**real world modeling\n",
        "**J)**extensibiilty."
      ],
      "metadata": {
        "id": "PL-99iCjan_g"
      }
    },
    {
      "cell_type": "markdown",
      "source": [
        "**Q17)**the difference between class variables and instance variables are:"
      ],
      "metadata": {
        "id": "YL2-4lALc79M"
      }
    },
    {
      "cell_type": "markdown",
      "source": [
        "**class variable**\n"
      ],
      "metadata": {
        "id": "Yg3TO6gxdXQQ"
      }
    },
    {
      "cell_type": "markdown",
      "source": [
        "**defination:**a variable that is shared among all instances of a class.\n",
        "**declaration:**defined within the class but outside of of any methods.\n",
        "**scope:**belongs to the class itself and its value is shared across  all instancees of the class.\n",
        "**behaviour:**if the value of a class variable is modified it affects all instances unless specifically overridden  in an instance.\n",
        "**usage:**commonly used for constants or data shared across instances like counters or configuration settings."
      ],
      "metadata": {
        "id": "EKSy-0b9degz"
      }
    },
    {
      "cell_type": "markdown",
      "source": [
        "**instance variable**"
      ],
      "metadata": {
        "id": "ODdKXlB1fLWr"
      }
    },
    {
      "cell_type": "markdown",
      "source": [
        "**Defination:**a variable that is unique to each instance of the class.\n",
        "**declaration:**typically defined within a method often the _init_ constructor using self.\n",
        "**scope:**belongs to a specific iinstance and not shared among others.\n",
        "**behaviour:**changes to an instance variable affect on that particular instance.\n",
        "**usage:**used for storing data that is unique to an object."
      ],
      "metadata": {
        "id": "B1T4mXXhfRMR"
      }
    },
    {
      "cell_type": "markdown",
      "source": [
        "**Q18)**multiple inheritance is python is a feature that allows a class to inherit attributes and methods from more than one parent class."
      ],
      "metadata": {
        "id": "G8DfFyTPgc7k"
      }
    },
    {
      "cell_type": "markdown",
      "source": [
        "**Q19)**in python the _str_ and _repr_ methods are special methods used to define string  reprentation oof objects. ther are used primarily for debugging and displaying objects in human-readable way."
      ],
      "metadata": {
        "id": "MvLoWTOIhEGw"
      }
    },
    {
      "cell_type": "markdown",
      "source": [
        "**Q20)**the super() funtion in python plays crucial role in the contexr of obhect oriented programming, particularly when working with inheritance. it main purpose is to provide a way to class method from a  parent class or super class in a way that ensures proper resoluution of the method hierarchy."
      ],
      "metadata": {
        "id": "vJatzvpMnY3y"
      }
    },
    {
      "cell_type": "markdown",
      "source": [
        "**Q21)**the _del_ method in python  is a special method called a destructor. it is automatically invoked whhen an object is about to be destroyed, which typicaly happens when its reference count drops to zero."
      ],
      "metadata": {
        "id": "f_TR6FTIoewQ"
      }
    },
    {
      "cell_type": "markdown",
      "source": [
        "**Q22)**the diiference between @staticmethod and @classmethod are:"
      ],
      "metadata": {
        "id": "XPhVSR-RpYkH"
      }
    },
    {
      "cell_type": "markdown",
      "source": [
        "**@staticmethod**"
      ],
      "metadata": {
        "id": "-MCKcN0xqKpi"
      }
    },
    {
      "cell_type": "markdown",
      "source": [
        "**defination:**a @staticmethod is a method that does not take the class(cls) or instance(self) as its first parameter.\n",
        "**use case:**used when the method does not depend on the class or instance data. itt behaves like a regular function but belongs the class's namespace.\n",
        "**invocation:**can be called on the class or an instance, but it does not access or modify the class or instannce state."
      ],
      "metadata": {
        "id": "Cm4eF4zbqWf4"
      }
    },
    {
      "cell_type": "markdown",
      "source": [
        "**@classmethod**"
      ],
      "metadata": {
        "id": "LWvOJTCivDTK"
      }
    },
    {
      "cell_type": "markdown",
      "source": [
        "**defination:**a @classmethod is a method that takes the class as its first parameter.\n",
        "**use case**used when the method needs to access or modify the class state. it can be useful for factory methods or methods that need to work with class-level data.\n",
        "**invocation**can also be called on the  class or an instance. however, it receives the class as its first argument, allowing it to interct with  class attributes or other class level methods."
      ],
      "metadata": {
        "id": "x8CpEu4hvJ5y"
      }
    },
    {
      "cell_type": "markdown",
      "source": [
        "**Q23)**polymorphism in python,particularly with inheritance, allows objects of diffrent classes to be treated as objects of a common base class. this is a core concept in object oriented programming and is achieved through method overriding and duck typing in python."
      ],
      "metadata": {
        "id": "LxRFXSOdweRa"
      }
    },
    {
      "cell_type": "markdown",
      "source": [
        "**Q24)**method chaining in python OOP is a programming technique where multiple methods called on the same object in a single statement.This is achieved by having each method return the object itself(self), enabling the subsequent method calls."
      ],
      "metadata": {
        "id": "QtfnrNdNzdgS"
      }
    },
    {
      "cell_type": "markdown",
      "source": [
        "**Q25)**in python, the _call_ method allows an instance of a class to be called as if it were a function. By defining the_call_ mmethod,, you can make objects behave like function. this useful when you want to encapsulate behaviour within an object and call it directly, rather than accessing methods or attribures explicitly."
      ],
      "metadata": {
        "id": "qj5YX7GRqSoS"
      }
    },
    {
      "cell_type": "markdown",
      "source": [],
      "metadata": {
        "id": "B0flEn194JLg"
      }
    },
    {
      "cell_type": "markdown",
      "source": [
        "**PRACTICAL QUESTIONS**"
      ],
      "metadata": {
        "id": "yMPmPc914cbY"
      }
    },
    {
      "cell_type": "markdown",
      "source": [
        "**Q1)**"
      ],
      "metadata": {
        "id": "4OhG3Ze_4lPj"
      }
    },
    {
      "cell_type": "code",
      "source": [
        "#Parent class\n",
        "class animal:\n",
        "  def speak(self):\n",
        "    print(\"the animal makes a sound.\")\n",
        "\n",
        "#child class\n",
        "class dog(animal):\n",
        "  def speak(self):\n",
        "    print(\"bark!\")\n"
      ],
      "metadata": {
        "id": "0Xp03Ljs4t0b"
      },
      "execution_count": null,
      "outputs": []
    },
    {
      "cell_type": "markdown",
      "source": [
        "**Q2)**"
      ],
      "metadata": {
        "id": "zbFHRSdm5sXg"
      }
    },
    {
      "cell_type": "code",
      "source": [
        "from abc import ABC, abstractmethod\n",
        "\n",
        "class Shape(ABC):\n",
        "  @abstractmethod\n",
        "  def area(self):\n",
        "    pass\n",
        "\n",
        " class Circle(Shape):\n",
        "  def _init_(self, radius):\n",
        "    self.radius = radius\n",
        "\n",
        "    def area(self):\n",
        "      return 3.14159 *self. radius* self.radius\n",
        "\n",
        "class Rectangle(Shape):\n",
        "  def _init_(self, width, height):\n",
        "    self.width = width\n",
        "    self.height = height\n",
        "\n",
        "  def area(self):\n",
        "    return self.width * self.height\n",
        "\n",
        "#example usage\n",
        "if __name__ == \"_main_\":\n",
        "   circle = Circle(5)\n",
        "   rectangle = Rectangle(4, 6)\n",
        "\n",
        "\n",
        "   print(f\"Area of the circle: {circle. area()}\")\n",
        "   print(f\"Area of the rectangle: {rectangle.area()}\")"
      ],
      "metadata": {
        "id": "o-96SljH5vZ7",
        "colab": {
          "base_uri": "https://localhost:8080/",
          "height": 111
        },
        "outputId": "c9a13c85-fe3a-44c7-c5e9-814718d9518f"
      },
      "execution_count": null,
      "outputs": [
        {
          "output_type": "error",
          "ename": "IndentationError",
          "evalue": "unindent does not match any outer indentation level (<tokenize>, line 8)",
          "traceback": [
            "\u001b[0;36m  File \u001b[0;32m\"<tokenize>\"\u001b[0;36m, line \u001b[0;32m8\u001b[0m\n\u001b[0;31m    class Circle(Shape):\u001b[0m\n\u001b[0m    ^\u001b[0m\n\u001b[0;31mIndentationError\u001b[0m\u001b[0;31m:\u001b[0m unindent does not match any outer indentation level\n"
          ]
        }
      ]
    },
    {
      "cell_type": "code",
      "source": [],
      "metadata": {
        "id": "282SdtH35q02"
      },
      "execution_count": null,
      "outputs": []
    },
    {
      "cell_type": "markdown",
      "source": [
        "**Q3)**"
      ],
      "metadata": {
        "id": "nDzVk-Pwtkt4"
      }
    },
    {
      "cell_type": "code",
      "source": [
        "class Vehicle:\n",
        "  def __init__(self, vehicle_type):\n",
        "    self.type = vehicle_type\n",
        "\n",
        "  def display_type(self):\n",
        "    return f\"This is a {self.type}.\"\n",
        "\n",
        "class Car(Vehicle):\n",
        "    def _init_(self, vehicle_type, brand):\n",
        "      super()._init_(vehicle_type)\n",
        "      self.brand = brand\n",
        "\n",
        "    def display_brand(self):\n",
        "        return f\"this {self.type} is a {self.brand}.\"\n",
        "\n",
        "class electricCar(Car):\n",
        "    def _init_(self, vehicle_type, brand, battery_capacity):\n",
        "      super()._init_(vehicle_type, brand)\n",
        "      self.battery_capacity = battery_capacity\n",
        "\n",
        "    def display_battery(self):\n",
        "      return f\"This {self.brand} {self. type} has a battery capacity of {self.battery_capacity} kWh.\"\n",
        "\n",
        "#example usage\n",
        "if __name__ ==  \"_main_\":\n",
        "    vehicle= Vehicle(\"general vehicle\")\n",
        "    print(vehicle.display_type())\n",
        "\n",
        "    car= Car(\"car\", \"Toyota\")\n",
        "    print(car.display_type())\n",
        "    print(car.display_brand())\n",
        "\n",
        "    electric_car = ElectricCar(\"electric car\", \"Tesla\", 75)\n",
        "    print(electric_car.display_type())\n",
        "    print(electric_car.display_brand())\n",
        "    print(electric_car.display_battery())"
      ],
      "metadata": {
        "id": "8a44Mi2JtraW"
      },
      "execution_count": null,
      "outputs": []
    },
    {
      "cell_type": "markdown",
      "source": [],
      "metadata": {
        "id": "3cPaR1YZ0dXp"
      }
    },
    {
      "cell_type": "markdown",
      "source": [
        "**Q4)**same as ans no.3"
      ],
      "metadata": {
        "id": "GlSms-4l4UzV"
      }
    },
    {
      "cell_type": "markdown",
      "source": [
        "**Q5)**"
      ],
      "metadata": {
        "id": "DXgWYtV842Xp"
      }
    },
    {
      "cell_type": "code",
      "source": [
        "class BankAccount:\n",
        "  def __init__(self, initial_balance=0):\n",
        "    #private attribute\n",
        "    self._balance = initial_balance\n",
        "\n",
        "  def deposit(self, amount):\n",
        "    if amount>0:\n",
        "      self._balance += amount\n",
        "      print(f\"Deposited: ${amount}\")\n",
        "    else:\n",
        "      print(\"Invalid deposit amount.\")\n",
        "\n",
        "  #public method to withdraw\n",
        "  def withdraw(self, ammount):\n",
        "      if 0 < amount <=self ._balance:\n",
        "        self._balance -= amount\n",
        "        print(f\"Withdraw: ${amount}\")\n",
        "     elif amount > self._balance:\n",
        "         print(\"insufficient balance.\")\n",
        "     else:\n",
        "         print(\"invalid withdrawl amount.\")\n",
        "\n",
        "   #public method  to check balance\n",
        "   def check_balance(self):\n",
        "       print(f\"Current balance: ${self._balance}\")\n",
        "\n",
        " #example usage\n",
        " if _name_ == \"_main_\" :\n",
        "    #create a BankAccount object with an intial balance\n",
        "    account = BankAccount(100)\n",
        "\n",
        "    #check initial balance\n",
        "    account.check_balance()\n",
        "\n",
        "    #deposit money\n",
        "    account.deposit(50)\n",
        "\n",
        "    #check balance again\n",
        "    account.check_balace()\n",
        "\n",
        "    #try to withdraw money\n",
        "    account.withdraw(30)\n",
        "\n",
        "    #check balance again\n",
        "    account.check_balance()\n",
        "\n",
        "    #attempt invalid operations\n",
        "    account.deposit(-20)\n",
        "    account.withdraw(200)\n",
        "\n",
        "\n"
      ],
      "metadata": {
        "colab": {
          "base_uri": "https://localhost:8080/",
          "height": 111
        },
        "id": "-QeYRjdR4-VZ",
        "outputId": "50867961-869d-4f17-b581-85e5a7d16652"
      },
      "execution_count": null,
      "outputs": [
        {
          "output_type": "error",
          "ename": "IndentationError",
          "evalue": "unindent does not match any outer indentation level (<tokenize>, line 18)",
          "traceback": [
            "\u001b[0;36m  File \u001b[0;32m\"<tokenize>\"\u001b[0;36m, line \u001b[0;32m18\u001b[0m\n\u001b[0;31m    elif amount > self._balance:\u001b[0m\n\u001b[0m    ^\u001b[0m\n\u001b[0;31mIndentationError\u001b[0m\u001b[0;31m:\u001b[0m unindent does not match any outer indentation level\n"
          ]
        }
      ]
    },
    {
      "cell_type": "markdown",
      "source": [
        "**Q6)**"
      ],
      "metadata": {
        "id": "IdNkHsq_RRJc"
      }
    },
    {
      "cell_type": "code",
      "source": [
        "class Instrument:\n",
        "  def play(self):\n",
        "    raise NotImplementedError(\"Subclasses must umplement this method\")\n",
        "\n",
        "class Guitar(Instrument):\n",
        "  def play(self):\n",
        "    print (\"Playing the guitar: Strum strum strum!\")\n",
        "\n",
        "class Piano(Instrument):\n",
        "  def play(self):\n",
        "    print(\"Playing the piano: Plink plonk plink!\")\n",
        "\n",
        "#Demostrating runtime polymorphism\n",
        "def perform(instrument):\n",
        "  instrument.play()\n",
        "\n",
        "#Creating instance of Guitar and piano\n",
        "guitar=Guitar()\n",
        "piano=Piano()\n",
        "\n",
        "#calling the perform function with different instruments\n",
        "perform(guitar) #Output: Playing the guitar: Strum strum strum!\n",
        "perform(piano)  #Output: Playing the piano: Plink plink plink!\n"
      ],
      "metadata": {
        "colab": {
          "base_uri": "https://localhost:8080/"
        },
        "id": "-pciuqDtRZpQ",
        "outputId": "d1972305-1c2d-4fe8-d921-39b5aeee38bc"
      },
      "execution_count": 1,
      "outputs": [
        {
          "output_type": "stream",
          "name": "stdout",
          "text": [
            "Playing the guitar: Strum strum strum!\n",
            "Playing the piano: Plink plonk plink!\n"
          ]
        }
      ]
    },
    {
      "cell_type": "markdown",
      "source": [
        "**Q7)**"
      ],
      "metadata": {
        "id": "WPkqlph6WIBU"
      }
    },
    {
      "cell_type": "code",
      "source": [
        "class Mathsoperation:\n",
        "  @classmethod\n",
        "  def add_numbers(cls, a, b):\n",
        "    \"\"\"\n",
        "    Class method to add two numbers.\n",
        "\n",
        "    Parameters:\n",
        "    a (int or float): The first number.\n",
        "    b(int or float): The second number.\n",
        "\n",
        "    Returns:\n",
        "    int or float: The sum of the two number.\n",
        "    \"\"\"\n",
        "    @staticmethod\n",
        "    def subtract_numbers(a, b):\n",
        "      \"\"\"\n",
        "\n",
        "    Static method to subtract two numbers.\n",
        "\n",
        "    Parameters:\n",
        "    a (int or  float): The first number.\n",
        "    b (int or float): The second number.\n",
        "\n",
        "    return a - b\n",
        "\n",
        " #Example usage:\n",
        " #Adding numbers using the class method\n",
        " print(MathOperation.add_number(10, 5))  #output: 15\n",
        "\n",
        " #Subtracting numbers using the static method\n",
        " print(MathOperations.subtract_numbers(10, 5)) #Output: 5\n",
        "\n"
      ],
      "metadata": {
        "colab": {
          "base_uri": "https://localhost:8080/",
          "height": 111
        },
        "id": "B7TV8rVyWPHF",
        "outputId": "3377e6e0-c2a3-4290-d18c-77b817aaf56c"
      },
      "execution_count": 6,
      "outputs": [
        {
          "output_type": "error",
          "ename": "SyntaxError",
          "evalue": "incomplete input (<ipython-input-6-17db3ce865ce>, line 16)",
          "traceback": [
            "\u001b[0;36m  File \u001b[0;32m\"<ipython-input-6-17db3ce865ce>\"\u001b[0;36m, line \u001b[0;32m16\u001b[0m\n\u001b[0;31m    \"\"\"\u001b[0m\n\u001b[0m    ^\u001b[0m\n\u001b[0;31mSyntaxError\u001b[0m\u001b[0;31m:\u001b[0m incomplete input\n"
          ]
        }
      ]
    },
    {
      "cell_type": "markdown",
      "source": [
        "**Q8)**"
      ],
      "metadata": {
        "id": "5D9MzIi1aiy0"
      }
    },
    {
      "cell_type": "code",
      "source": [
        "class Person:\n",
        "  #class  variable to keep track of the count\n",
        "  _count = 0\n",
        "\n",
        "  def _init_(self, name):\n",
        "    self.name = name\n",
        "    #increment the count whenever a new instance is created\n",
        "    Person._count += 1\n",
        "\n",
        "    @classmethod\n",
        "    def get_person_count(cls):\n",
        "      \"\"\"Class method to return the total number of persons created.\"\"\"\n",
        "      return cls._count\n",
        "\n"
      ],
      "metadata": {
        "id": "3xo6CGMramyR"
      },
      "execution_count": 5,
      "outputs": []
    },
    {
      "cell_type": "markdown",
      "source": [
        "**Q9)**"
      ],
      "metadata": {
        "id": "rCbS5ccbiY5-"
      }
    },
    {
      "cell_type": "code",
      "source": [
        "class Fraction:\n",
        "  def _init_(self, numerator, denominator):\n",
        "    if denominator == 0:\n",
        "      raise ValueError(\"Denominator cannot be zero.\")\n",
        "      self.numerator = numerattor\n",
        "      self.denominator =  denominator\n",
        "\n",
        "  def _str_(self):\n",
        "    return f\"{self.numerator}/{self.denominator}\"\n",
        "\n",
        "    #Example usage\n",
        "    if _name_ == \"_main_\":\n",
        "      fraction = fraction(3, 4)\n",
        "      print(fraction) #output: 3\\/4\n"
      ],
      "metadata": {
        "id": "LdFYLBqXkisb"
      },
      "execution_count": 10,
      "outputs": []
    },
    {
      "cell_type": "markdown",
      "source": [
        "**Q10)**"
      ],
      "metadata": {
        "id": "5SzzV1ONmwdw"
      }
    },
    {
      "cell_type": "code",
      "source": [
        "class Ventor:\n",
        "  def _init_(self, x, y):\n",
        "    self.x =  x\n",
        "    self.y = y\n",
        "\n",
        "  def _add_(self, other):\n",
        "    if isinstance(other, Ventor):\n",
        "      return Vector(self.x + other.x, self.y + other.y)\n",
        "    raise ValueError(\"Can only add two Vector objects.\")\n",
        "\n",
        "  def _repr_(self):\n",
        "    return F\"Vector({self.x}, {self.y})\"\n"
      ],
      "metadata": {
        "id": "nGjCluFlm0cO"
      },
      "execution_count": 11,
      "outputs": []
    },
    {
      "cell_type": "markdown",
      "source": [
        "**Q11)**"
      ],
      "metadata": {
        "id": "FzuFioa3on8B"
      }
    },
    {
      "cell_type": "code",
      "source": [
        "class Person:\n",
        "  def _init_(self, name, age):\n",
        "    self.name = name\n",
        "    self.age = age\n",
        "\n",
        "  def greet(self):\n",
        "    print(f\"Hello, my name is {self.name } and i am {self.age} years old.\")\n",
        "\n",
        "\n"
      ],
      "metadata": {
        "id": "RbQLKK7zorBD"
      },
      "execution_count": 15,
      "outputs": []
    },
    {
      "cell_type": "markdown",
      "source": [
        "**Q12)**"
      ],
      "metadata": {
        "id": "yh93rFETtCFq"
      }
    },
    {
      "cell_type": "code",
      "source": [
        "class Student:\n",
        "  def _init_(self, name, gredes):\n",
        "    \"\"\"\n",
        "    Initialize a student object\n",
        "\n",
        "    :param name: str, the name of the student\n",
        "    :param: list of float, the grades of the student\n",
        "    \"\"\"\n",
        "\n",
        "    self.name = name\n",
        "    self.grades = grades\n",
        "\n",
        "\n",
        "  def average_grade(self):\n",
        "    \"\"\"\n",
        "    Computer the average of the student's grades.\n",
        "\n",
        "    :return:float, the average grade\n",
        "    \"\"\"\n",
        "    if not self.grades: #handle the case where the grades list is empty\n",
        "         return 0.0\n",
        "    return sum(self.grades) / len(self.grade)\n",
        "\n",
        "\n",
        "\n",
        "\n",
        "\n",
        "\n",
        ""
      ],
      "metadata": {
        "id": "NsYmOcToteF9"
      },
      "execution_count": 20,
      "outputs": []
    },
    {
      "cell_type": "markdown",
      "source": [
        "**Q13)**"
      ],
      "metadata": {
        "id": "dsW-wOywwJx6"
      }
    },
    {
      "cell_type": "code",
      "source": [
        "class Rectangle:\n",
        "  def _init_(self):\n",
        "    self.length = 0\n",
        "    self.width = 0\n",
        "  def set_dimensions(self, length, width):\n",
        "    \"\"\"\n",
        "    set the dimensions of the rectangle.\n",
        "    :param length: Length of the rectangle.\n",
        "    :param width: Width of the rectangle.\n",
        "    \"\"\"\n",
        "    self.length = length\n",
        "    self.width = Width\n",
        "\n",
        "  def area(self):\n",
        "    \"\"\"\n",
        "    calculate the area of the rectangle.\n",
        "    :return: Area of the rectangle.\n",
        "    \"\"\"\n",
        "    return self.length * self.width\n",
        "\n",
        "\n",
        "\n"
      ],
      "metadata": {
        "id": "m-WDp3wpwP6K"
      },
      "execution_count": 24,
      "outputs": []
    },
    {
      "cell_type": "markdown",
      "source": [
        "**Q14)**"
      ],
      "metadata": {
        "id": "-28XjRYVzQnH"
      }
    },
    {
      "cell_type": "code",
      "source": [
        "class Employee:\n",
        "  def _init_(self, name, hours_worked, hourly_rate):\n",
        "    self.name = name\n",
        "    self.hours_worked = hours_worked\n",
        "    self.hourly_rate= hourly_rate\n",
        "\n",
        "  def calculate_salary(self):\n",
        "    \"\"\"Calculates the salary based on hours worked and hourly rate.\"\"\"\n",
        "    return  self.hours_worked * self.hourly_rate\n",
        "\n",
        "class Manager(Employee):\n",
        "  def _init_(self, name, hours_worked, hourly_rate, bonus):\n",
        "    super()._init_(name, hours_worked, hourly_rate)\n",
        "    self.bonus = bonus\n",
        "\n",
        "  def calculate_salary(self):\n",
        "    \"\"\"Calculates the salary based on hours worked, hourly rate, and adds a bonus\"\"\"\n",
        "    base_salary = super().calculate_salary()\n",
        "    return base_salary + self.bonus"
      ],
      "metadata": {
        "id": "hl75X6pOzT8w"
      },
      "execution_count": 27,
      "outputs": []
    },
    {
      "cell_type": "markdown",
      "source": [
        "**Q15)**"
      ],
      "metadata": {
        "id": "VJRCIUdo2MlB"
      }
    },
    {
      "cell_type": "code",
      "source": [
        "class Product:\n",
        "  def _init_(self, name, price, quantity):\n",
        "    self.name = name\n",
        "    self.price = price\n",
        "    self.quantity = quantity\n",
        "\n",
        "  def total_price(self):\n",
        "    return self.price * self.quantity"
      ],
      "metadata": {
        "id": "9lsKGM7I2QFd"
      },
      "execution_count": 28,
      "outputs": []
    },
    {
      "cell_type": "markdown",
      "source": [
        "**Q16)**"
      ],
      "metadata": {
        "id": "KHi8tJZG3Hkt"
      }
    },
    {
      "cell_type": "code",
      "source": [
        "from abc import ABC, abstractmethod\n",
        "\n",
        "#abstract base class\n",
        "class Animal(ABC):\n",
        "\n",
        "  @abstractmethod\n",
        "  def sound(self):\n",
        "    pass\n",
        "\n",
        "#derived class cow\n",
        "class Cow(Animal):\n",
        "\n",
        "  def sound(self):\n",
        "    return\"Moo\"\n",
        "\n",
        "#derived class sheep\n",
        "class sheep(Animal):\n",
        "\n",
        "  def sound(self):\n",
        "    return \"Baa\""
      ],
      "metadata": {
        "id": "15CVah-a3Ldn"
      },
      "execution_count": 29,
      "outputs": []
    },
    {
      "cell_type": "markdown",
      "source": [
        "**Q18)**"
      ],
      "metadata": {
        "id": "liYDsmP64e91"
      }
    },
    {
      "cell_type": "code",
      "source": [
        "class House:\n",
        "  def _init_(self, address, price):\n",
        "    self.address = address\n",
        "    self.price = price\n",
        "\n",
        "  def _str_(self):\n",
        "    return f\"House Address:{self.address}, Price: ${self.price}\"\n",
        "\n",
        "class Mansion (House):\n",
        "  def _init_(self, address, price, number_of_rooms):\n",
        "    #initialise the base class(House)with  the address and pprice\n",
        "    super()._init_(address, price,)\n",
        "    self.number_of_rooms  = number_of_rooms\n",
        "\n",
        "  def _str_(self):\n",
        "    return f\"Mansion Address:{self.address}, Price: ${self.price}, Rooms: {self.number_of_rooms}\""
      ],
      "metadata": {
        "id": "BW4iTx_D5uNZ"
      },
      "execution_count": 31,
      "outputs": []
    },
    {
      "cell_type": "code",
      "source": [],
      "metadata": {
        "id": "RMmIGK0b4nB4"
      },
      "execution_count": null,
      "outputs": []
    },
    {
      "cell_type": "code",
      "source": [],
      "metadata": {
        "id": "tcsYTvP6tP-H"
      },
      "execution_count": null,
      "outputs": []
    },
    {
      "cell_type": "code",
      "source": [],
      "metadata": {
        "id": "jaUSlliijoFD"
      },
      "execution_count": null,
      "outputs": []
    },
    {
      "cell_type": "code",
      "source": [],
      "metadata": {
        "id": "aIqYH2Swim4d"
      },
      "execution_count": null,
      "outputs": []
    },
    {
      "cell_type": "code",
      "source": [],
      "metadata": {
        "id": "RaJY7xZDRQQj"
      },
      "execution_count": null,
      "outputs": []
    },
    {
      "cell_type": "code",
      "source": [],
      "metadata": {
        "id": "E1guom_j4aLY"
      },
      "execution_count": null,
      "outputs": []
    },
    {
      "cell_type": "code",
      "execution_count": null,
      "metadata": {
        "id": "Wu98tqVuWhqD"
      },
      "outputs": [],
      "source": []
    }
  ]
}